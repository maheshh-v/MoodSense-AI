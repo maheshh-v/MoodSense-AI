{
 "cells": [
  {
   "cell_type": "markdown",
   "id": "60493a28-91bd-42bb-936b-b5ca1c781504",
   "metadata": {},
   "source": [
    "# <center>  🎵 Mood Detection from Text + Music Recommendation </center> \n",
    "This deep learning NLP project classifies the **emotional tone of a sentence** and suggests a **music playlist** based on detected mood. It uses **LSTM (TensorFlow/Keras)** for sequence modeling and **GloVe embeddings** for semantic understanding.\n",
    "\n",
    "###  What this project does:\n",
    "- Detects emotions like joy, sadness, anger, fear, surprise, love from text\n",
    "- Recommends matching music playlists (using Spotify-style mapping)\n",
    "- Built fully by me to learn **text classification, embeddings, and real-world NLP**\n",
    "\n",
    "###  Why it matters:\n",
    "In the real world, mood-aware systems can personalize experiences in chatbots, mental health apps, music players, etc.\n"
   ]
  },
  {
   "cell_type": "markdown",
   "id": "b02ec3aa-40a2-49ea-82bc-13b7e1a5d617",
   "metadata": {},
   "source": [
    "##  Step 1: Load Emotion Dataset"
   ]
  },
  {
   "cell_type": "code",
   "execution_count": 88,
   "id": "85fe419f-1129-4d95-a1c6-a64e7bb2d34c",
   "metadata": {},
   "outputs": [],
   "source": [
    "from datasets import load_dataset"
   ]
  },
  {
   "cell_type": "code",
   "execution_count": 89,
   "id": "b61e50d2-dcbe-4a24-9d9b-09630f5ba715",
   "metadata": {},
   "outputs": [],
   "source": [
    "ds = load_dataset('emotion')"
   ]
  },
  {
   "cell_type": "code",
   "execution_count": 90,
   "id": "7334ec2c-9c2f-4146-b63d-3f5c014ec47e",
   "metadata": {},
   "outputs": [
    {
     "data": {
      "text/plain": [
       "DatasetDict({\n",
       "    train: Dataset({\n",
       "        features: ['text', 'label'],\n",
       "        num_rows: 16000\n",
       "    })\n",
       "    validation: Dataset({\n",
       "        features: ['text', 'label'],\n",
       "        num_rows: 2000\n",
       "    })\n",
       "    test: Dataset({\n",
       "        features: ['text', 'label'],\n",
       "        num_rows: 2000\n",
       "    })\n",
       "})"
      ]
     },
     "execution_count": 90,
     "metadata": {},
     "output_type": "execute_result"
    }
   ],
   "source": [
    "ds"
   ]
  },
  {
   "cell_type": "code",
   "execution_count": 91,
   "id": "471d57f7-43c6-4fe7-8143-b4c0107be4f5",
   "metadata": {},
   "outputs": [],
   "source": [
    "label_names = ds['train'].features['label'].names"
   ]
  },
  {
   "cell_type": "markdown",
   "id": "ca92de3f-4fb0-45d6-9f17-263455bb5b7d",
   "metadata": {},
   "source": [
    "##  Step 2: Text Cleaning"
   ]
  },
  {
   "cell_type": "code",
   "execution_count": 92,
   "id": "12ee7989-1087-4719-9e4f-aab2b6cd37b4",
   "metadata": {},
   "outputs": [],
   "source": [
    "import re\n",
    "\n",
    "def clean_text(text):\n",
    "    text = text.lower()\n",
    "    text = re.sub(r'[^a-zA-Z\\s]', '', text)  # FOR removing punctuatition\n",
    "    text = re.sub(r'\\s+', ' ', text).strip() #removing unwanted gaps\n",
    "    return text\n",
    "\n",
    "\n",
    "train_texts = [clean_text(t) for t in ds['train']['text']]\n",
    "test_texts =  [clean_text(t) for t in ds['test']['text']]\n",
    "val_texts =  [clean_text(t) for t in ds['validation']['text']]"
   ]
  },
  {
   "cell_type": "code",
   "execution_count": 93,
   "id": "115e4be4-dd91-4dad-9c1b-9eb7be5f5185",
   "metadata": {},
   "outputs": [
    {
     "data": {
      "text/plain": [
       "['i didnt feel humiliated',\n",
       " 'i can go from feeling so hopeless to so damned hopeful just from being around someone who cares and is awake',\n",
       " 'im grabbing a minute to post i feel greedy wrong',\n",
       " 'i am ever feeling nostalgic about the fireplace i will know that it is still on the property',\n",
       " 'i am feeling grouchy',\n",
       " 'ive been feeling a little burdened lately wasnt sure why that was',\n",
       " 'ive been taking or milligrams or times recommended amount and ive fallen asleep a lot faster but i also feel like so funny',\n",
       " 'i feel as confused about life as a teenager or as jaded as a year old man',\n",
       " 'i have been with petronas for years i feel that petronas has performed well and made a huge profit',\n",
       " 'i feel romantic too']"
      ]
     },
     "execution_count": 93,
     "metadata": {},
     "output_type": "execute_result"
    }
   ],
   "source": [
    "train_texts[:10]"
   ]
  },
  {
   "cell_type": "markdown",
   "id": "61e7071e-3130-49d7-bcf6-89b1cc3c0c34",
   "metadata": {},
   "source": [
    "##  Step 3: Tokenization + Sequences"
   ]
  },
  {
   "cell_type": "code",
   "execution_count": 94,
   "id": "f2d8131a-95e3-416a-aca0-52c928cac516",
   "metadata": {},
   "outputs": [],
   "source": [
    "from tensorflow.keras.preprocessing.text import Tokenizer"
   ]
  },
  {
   "cell_type": "code",
   "execution_count": 95,
   "id": "88868c30-d253-4062-846d-99e6effad4e6",
   "metadata": {},
   "outputs": [],
   "source": [
    "tokenizer = Tokenizer(oov_token=\"<OOV>\")\n",
    "\n",
    "tokenizer.fit_on_texts(train_texts) \n",
    "\n",
    "train_seq = tokenizer.texts_to_sequences(train_texts)  #Each word is replaced with its index from the vocabulary created earlier.\n",
    "val_seq   = tokenizer.texts_to_sequences(val_texts)\n",
    "test_seq  = tokenizer.texts_to_sequences(test_texts)"
   ]
  },
  {
   "cell_type": "code",
   "execution_count": 96,
   "id": "ba3bf9ff-5bcf-4c58-9eaf-b6b49cd51a06",
   "metadata": {},
   "outputs": [],
   "source": [
    "#vocab size \n",
    "vocab_size = len(tokenizer.word_index) + 1  #It calculates how many unique words your tokenizer has learned."
   ]
  },
  {
   "cell_type": "code",
   "execution_count": 97,
   "id": "9c09e5c5-75ce-417c-9cac-b89f4a7464c2",
   "metadata": {},
   "outputs": [
    {
     "data": {
      "text/plain": [
       "15214"
      ]
     },
     "execution_count": 97,
     "metadata": {},
     "output_type": "execute_result"
    }
   ],
   "source": [
    "vocab_size"
   ]
  },
  {
   "cell_type": "markdown",
   "id": "29edf49e-3a9b-4aca-b0e4-b46e20c70dc3",
   "metadata": {},
   "source": [
    "##  Step 4: Padding Sequences"
   ]
  },
  {
   "cell_type": "code",
   "execution_count": 98,
   "id": "6343acad-6598-4790-ad9b-975ca47772fa",
   "metadata": {},
   "outputs": [],
   "source": [
    "from tensorflow.keras.preprocessing.sequence import pad_sequences\n",
    "import numpy as np"
   ]
  },
  {
   "cell_type": "code",
   "execution_count": 99,
   "id": "c0819bb4-f034-45fd-9d63-ca5f1a95d9fa",
   "metadata": {},
   "outputs": [
    {
     "name": "stdout",
     "output_type": "stream",
     "text": [
      "35\n"
     ]
    }
   ],
   "source": [
    "# to get the lenghts\n",
    "seq_lengths = [len(seq) for seq in train_seq]\n",
    "\n",
    "# Setting maxlen as 90th percentile \n",
    "MAX_LEN = int(np.percentile(seq_lengths, 90))\n",
    "print(MAX_LEN)"
   ]
  },
  {
   "cell_type": "code",
   "execution_count": 100,
   "id": "7c82e15f-0100-4a98-82b3-1c62bd44a8af",
   "metadata": {},
   "outputs": [],
   "source": [
    "padded_train = pad_sequences( \n",
    "    train_seq,\n",
    "    maxlen=MAX_LEN,\n",
    "    padding='post' \n",
    ")\n",
    "\n",
    "padded_val   = pad_sequences(val_seq, maxlen=MAX_LEN, padding='post')\n",
    "padded_test  = pad_sequences(test_seq, maxlen=MAX_LEN, padding='post')"
   ]
  },
  {
   "cell_type": "code",
   "execution_count": 101,
   "id": "2068c601-e6a4-4508-b8e7-ae138b9902c7",
   "metadata": {},
   "outputs": [
    {
     "data": {
      "text/plain": [
       "(16000, 35)"
      ]
     },
     "execution_count": 101,
     "metadata": {},
     "output_type": "execute_result"
    }
   ],
   "source": [
    "padded_train.shape"
   ]
  },
  {
   "cell_type": "code",
   "execution_count": null,
   "id": "ae0f1f1f-b5d2-49c6-b593-13aa2028a099",
   "metadata": {},
   "outputs": [],
   "source": []
  },
  {
   "cell_type": "code",
   "execution_count": 102,
   "id": "14f4a76d-19f3-49d8-bd4d-693c39a57f38",
   "metadata": {},
   "outputs": [],
   "source": [
    "train_labels = np.array(ds['train']['label'])\n",
    "val_labels   = np.array(ds['validation']['label'])\n",
    "test_labels  = np.array(ds['test']['label'])"
   ]
  },
  {
   "cell_type": "markdown",
   "id": "2224cf14-973b-4d1b-84e8-b06085c300e4",
   "metadata": {},
   "source": [
    "- Why i did it?\n",
    "       \n",
    "      Because:\n",
    "\n",
    "      Labels, however, are often Python lists or Series and need to be converted to NumPy arrays for compatibility with model training.\n",
    "\n",
    "      Keras models expect NumPy arrays (or tensors) during model.fit(), model.evaluate(), and model.predict().\n",
    "\n",
    "      why not text then -because Text inputs are usually processed with Tokenizer → sequences → padded arrays (already NumPy-like)."
   ]
  },
  {
   "cell_type": "markdown",
   "id": "cf8bd199-5449-4811-a392-19564cbb525e",
   "metadata": {},
   "source": [
    "##  Step 5: Build the Model (LSTM + Embeddings)"
   ]
  },
  {
   "cell_type": "code",
   "execution_count": 103,
   "id": "af187eef-9027-4e6f-816a-20d32548e1f1",
   "metadata": {},
   "outputs": [],
   "source": [
    "from tensorflow.keras.models import Sequential\n",
    "from tensorflow.keras.layers import Embedding, LSTM, Dense "
   ]
  },
  {
   "cell_type": "code",
   "execution_count": 104,
   "id": "d053560b-07e9-499f-981c-ffbb7213154f",
   "metadata": {},
   "outputs": [
    {
     "name": "stderr",
     "output_type": "stream",
     "text": [
      "2025-07-22 16:15:26.955142: I external/local_xla/xla/stream_executor/cuda/cuda_executor.cc:887] could not open file to read NUMA node: /sys/bus/pci/devices/0000:01:00.0/numa_node\n",
      "Your kernel may have been built without NUMA support.\n",
      "2025-07-22 16:15:26.984700: W tensorflow/core/common_runtime/gpu/gpu_device.cc:2256] Cannot dlopen some GPU libraries. Please make sure the missing libraries mentioned above are installed properly if you would like to use GPU. Follow the guide at https://www.tensorflow.org/install/gpu for how to download and setup the required libraries for your platform.\n",
      "Skipping registering GPU devices...\n"
     ]
    }
   ],
   "source": [
    "model = Sequential()\n",
    "\n",
    "model.add(\n",
    "    Embedding(\n",
    "    input_dim=vocab_size,\n",
    "    output_dim=128,\n",
    "    input_length=MAX_LEN  #the max length we find and decided\n",
    "    ))\n",
    "\n",
    "model.add(LSTM(64))  # 64 is the number of units (or memory cells) in the LSTM layer\n",
    "\n",
    "# model.add(Bidirectional(LSTM(64)))\n",
    "\n",
    "# model.add(Dropout(0.5))  # NEW \n",
    "        \n",
    "model.add(Dense(6, activation = 'softmax'))\n"
   ]
  },
  {
   "cell_type": "markdown",
   "id": "2c327653-b77e-47c8-a657-a689eb234af2",
   "metadata": {},
   "source": [
    "Tried BiLSTM and regularization (dropout), but standard LSTM gave the best validation performance (89.9%)."
   ]
  },
  {
   "cell_type": "markdown",
   "id": "4f2cba2b-7bfa-47b0-a58e-579483d84ba2",
   "metadata": {},
   "source": [
    "- What happens with LSTM(64)?\n",
    "        \n",
    "            It reads the sequence step-by-step (word-by-word).\n",
    "\n",
    "            It uses 64 memory slots to learn and remember important features.\n",
    "\n",
    "            Output shape becomes: (batch_size, 64)\n"
   ]
  },
  {
   "cell_type": "code",
   "execution_count": 105,
   "id": "77023aea-749d-4db1-a70d-1286d64f09b7",
   "metadata": {},
   "outputs": [
    {
     "name": "stdout",
     "output_type": "stream",
     "text": [
      "Model: \"sequential\"\n",
      "_________________________________________________________________\n",
      " Layer (type)                Output Shape              Param #   \n",
      "=================================================================\n",
      " embedding (Embedding)       (None, 35, 128)           1947392   \n",
      "                                                                 \n",
      " lstm (LSTM)                 (None, 64)                49408     \n",
      "                                                                 \n",
      " dense (Dense)               (None, 6)                 390       \n",
      "                                                                 \n",
      "=================================================================\n",
      "Total params: 1997190 (7.62 MB)\n",
      "Trainable params: 1997190 (7.62 MB)\n",
      "Non-trainable params: 0 (0.00 Byte)\n",
      "_________________________________________________________________\n"
     ]
    }
   ],
   "source": [
    "model.compile(\n",
    "    optimizer='adam',\n",
    "    loss='sparse_categorical_crossentropy',\n",
    "    metrics=['accuracy'],\n",
    ")\n",
    "\n",
    "model.summary()"
   ]
  },
  {
   "cell_type": "code",
   "execution_count": 106,
   "id": "325765d6-3578-43c0-a44a-795550e25c78",
   "metadata": {},
   "outputs": [
    {
     "name": "stdout",
     "output_type": "stream",
     "text": [
      "Class Weights: {0: 0.5715102157451064, 1: 0.49732686808404825, 2: 2.044989775051125, 3: 1.2351397251814111, 4: 1.3766993632765445, 5: 4.662004662004662}\n"
     ]
    }
   ],
   "source": [
    "from sklearn.utils.class_weight import compute_class_weight\n",
    "import numpy as np\n",
    "\n",
    "#Computing class weights\n",
    "class_weights = compute_class_weight(\n",
    "    class_weight='balanced',\n",
    "    classes=np.unique(train_labels),\n",
    "    y=train_labels\n",
    ")\n",
    "\n",
    "class_weights = dict(enumerate(class_weights))\n",
    "print(\"Class Weights:\", class_weights)\n"
   ]
  },
  {
   "cell_type": "code",
   "execution_count": 107,
   "id": "02991d9d-30a9-455c-9d06-92fb1432b9c6",
   "metadata": {},
   "outputs": [
    {
     "name": "stdout",
     "output_type": "stream",
     "text": [
      "Epoch 1/5\n",
      "500/500 [==============================] - 14s 24ms/step - loss: 1.5827 - accuracy: 0.2371 - val_loss: 1.2958 - val_accuracy: 0.4215\n",
      "Epoch 2/5\n",
      "500/500 [==============================] - 12s 24ms/step - loss: 1.1308 - accuracy: 0.4990 - val_loss: 0.9540 - val_accuracy: 0.6640\n",
      "Epoch 3/5\n",
      "500/500 [==============================] - 11s 23ms/step - loss: 0.6838 - accuracy: 0.7713 - val_loss: 0.5556 - val_accuracy: 0.8140\n",
      "Epoch 4/5\n",
      "500/500 [==============================] - 13s 25ms/step - loss: 0.3473 - accuracy: 0.8931 - val_loss: 0.3760 - val_accuracy: 0.8885\n",
      "Epoch 5/5\n",
      "500/500 [==============================] - 12s 23ms/step - loss: 0.1981 - accuracy: 0.9317 - val_loss: 0.3237 - val_accuracy: 0.9055\n"
     ]
    }
   ],
   "source": [
    "history = model.fit(\n",
    "    padded_train,\n",
    "    train_labels,\n",
    "    validation_data=(padded_val, val_labels),\n",
    "    epochs=5,\n",
    "    class_weight=class_weights  \n",
    ")\n"
   ]
  },
  {
   "cell_type": "markdown",
   "id": "3e71e269-eda3-4e05-99f2-4edd3994c113",
   "metadata": {},
   "source": [
    "* * *\n",
    "#### analysis and insights\n",
    "\n",
    "- Train Accuracy → 95.8%  \n",
    "\n",
    "- Val Accuracy   → 89.% 9\n",
    "\n",
    "- Gap ≈ 5.3% → Normal. No big overfitting `  \n",
    "\n",
    "#### Interpretation:\n",
    "\n",
    "| Metric | Status | Notes |\n",
    "| --- | --- | --- |\n",
    "| Train Accuracy |  High (good) | Means model learned well on training data |\n",
    "| Validation Accuracy |  High | Means it's generalizing well |\n",
    "| Accuracy Gap |  Acceptable | 5% gap is fine; >10% would need tuning |\n",
    "| Loss Trend |  Downward | No divergence = stable training |\n",
    "\n",
    " Overall — **model is working well.**\n",
    "\n",
    "* * *"
   ]
  },
  {
   "cell_type": "markdown",
   "id": "cbce5230-94d8-4430-a3b6-879a952ff327",
   "metadata": {},
   "source": [
    "##  Evaluation - Accuracy, Confusion Matrix, Class-wise Accuracy"
   ]
  },
  {
   "cell_type": "code",
   "execution_count": 108,
   "id": "c2b56dfa-a682-4fb2-b191-89f65886199e",
   "metadata": {},
   "outputs": [
    {
     "name": "stdout",
     "output_type": "stream",
     "text": [
      "63/63 [==============================] - 0s 4ms/step - loss: 0.3452 - accuracy: 0.8945\n",
      " Test Accuracy: 0.8945000171661377\n"
     ]
    }
   ],
   "source": [
    "#  Step 8: Evaluate on test set\n",
    "loss, accuracy = model.evaluate(padded_test, test_labels)\n",
    "print(\" Test Accuracy:\", accuracy)\n"
   ]
  },
  {
   "cell_type": "code",
   "execution_count": 109,
   "id": "0c7da4e7-19e8-48b6-9fec-1a79fb8f99c2",
   "metadata": {},
   "outputs": [
    {
     "name": "stdout",
     "output_type": "stream",
     "text": [
      "63/63 [==============================] - 0s 4ms/step\n"
     ]
    },
    {
     "data": {
      "image/png": "[encoded data removed]",
      "text/plain": [
       "<Figure size 640x480 with 2 Axes>"
      ]
     },
     "metadata": {},
     "output_type": "display_data"
    }
   ],
   "source": [
    "from sklearn.metrics import confusion_matrix , ConfusionMatrixDisplay\n",
    "import matplotlib.pyplot as plt\n",
    "#  Step 9: Confusion Matrix\n",
    "pred_probs = model.predict(padded_test)\n",
    "pred_labels = np.argmax(pred_probs, axis=1)\n",
    "\n",
    "cm = confusion_matrix(test_labels, pred_labels)  #Experiment: Added class weighting using sklearn to improve minority class accuracy.\n",
    "\n",
    "disp = ConfusionMatrixDisplay(confusion_matrix=cm, display_labels=label_names)\n",
    "disp.plot(xticks_rotation=45)\n",
    "plt.show()\n"
   ]
  },
  {
   "cell_type": "markdown",
   "id": "626b66d5-814a-4add-9e44-821a888df2ae",
   "metadata": {},
   "source": [
    "###  Model Training Progress\n",
    "\n",
    "Plot: Accuracy & Loss for LSTM with class weights"
   ]
  },
  {
   "cell_type": "code",
   "execution_count": 110,
   "id": "7e1b8bc5-9757-43f4-94b1-51e5c4fc3398",
   "metadata": {},
   "outputs": [],
   "source": [
    "import matplotlib.pyplot as plt\n",
    "\n",
    "def plot_history(history):\n",
    "    plt.figure(figsize=(12,5))\n",
    "\n",
    "    # Accuracy\n",
    "    plt.subplot(1,2,1)\n",
    "    plt.plot(history.history['accuracy'], label='Train Acc')\n",
    "    plt.plot(history.history['val_accuracy'], label='Val Acc')\n",
    "    plt.title('Accuracy per Epoch')\n",
    "    plt.xlabel('Epoch')\n",
    "    plt.ylabel('Accuracy')\n",
    "    plt.legend()\n",
    "\n",
    "    # Loss\n",
    "    plt.subplot(1,2,2)\n",
    "    plt.plot(history.history['loss'], label='Train Loss')\n",
    "    plt.plot(history.history['val_loss'], label='Val Loss')\n",
    "    plt.title('Loss per Epoch')\n",
    "    plt.xlabel('Epoch')\n",
    "    plt.ylabel('Loss')\n",
    "    plt.legend()\n",
    "\n",
    "    plt.tight_layout()\n",
    "    plt.show()\n"
   ]
  },
  {
   "cell_type": "code",
   "execution_count": 111,
   "id": "eb645f9c-eac8-4880-88d2-e4eb87b83f36",
   "metadata": {},
   "outputs": [
    {
     "data": {
      "image/png": "[encoded data removed]",
      "text/plain": [
       "<Figure size 1200x500 with 2 Axes>"
      ]
     },
     "metadata": {},
     "output_type": "display_data"
    }
   ],
   "source": [
    "plot_history(history)"
   ]
  },
  {
   "cell_type": "code",
   "execution_count": null,
   "id": "933d5a25-bed2-4ffc-abec-881b615167e1",
   "metadata": {},
   "outputs": [],
   "source": []
  },
  {
   "cell_type": "markdown",
   "id": "b0577cea-b781-46a6-82a3-3d857b4e5d8e",
   "metadata": {},
   "source": [
    "## Predict Mood for New Input"
   ]
  },
  {
   "cell_type": "code",
   "execution_count": 112,
   "id": "122aa0fa-8529-454b-bbc6-bc50e3a44956",
   "metadata": {},
   "outputs": [],
   "source": [
    "#  Emotion to Music Mapping  ,(JUST TO CHECK)\n",
    "mood_to_music = {\n",
    "    \"joy\": [\"Happy Vibes \", \"Sunshine Pop \", \"Feel Good Hits \"],\n",
    "    \"sadness\": [\"Soothing Piano \", \"Rainy Day Acoustics \", \"Sad Indie \"],\n",
    "    \"love\": [\"Romantic Chill \", \"Soft Love Songs \", \"Heartbeats \"],\n",
    "    \"anger\": [\"Heavy Metal \", \"Break the Silence \", \"Rap Battle Mode \"],\n",
    "    \"fear\": [\"Ambient Calm \", \"Safe Space \", \"Gentle Focus\"],\n",
    "    \"surprise\": [\"Eclectic Mix \", \"Unexpected Beats \", \"Feel the Twist \"]\n",
    "}\n"
   ]
  },
  {
   "cell_type": "code",
   "execution_count": 113,
   "id": "451ce972-fafd-499c-a867-68a570f61d58",
   "metadata": {},
   "outputs": [],
   "source": [
    "def predict_mood(text):\n",
    "    # Clean and preprocess input\n",
    "    clean = clean_text(text)\n",
    "    seq = tokenizer.texts_to_sequences([clean])\n",
    "    padded = pad_sequences(seq, maxlen=MAX_LEN, padding='post')\n",
    "\n",
    "    # Predict\n",
    "    pred = model.predict(padded)[0]\n",
    "\n",
    "    # Get top 2 predicted moods\n",
    "    top_2 = pred.argsort()[-2:][::-1]\n",
    "    results = [(label_names[i], round(pred[i]*100, 2)) for i in top_2]\n",
    "\n",
    "    # Show result\n",
    "    print(f\"\\nDetected Mood: {results[0][0]} ({results[0][1]}%)\")\n",
    "    print(\"Other Possible Mood:\", f\"{results[1][0]} ({results[1][1]}%)\")\n",
    "\n",
    "    # Suggest music based on top mood\n",
    "    mood = results[0][0]\n",
    "    print(\"\\n Recommended Music:\")\n",
    "    for song in mood_to_music.get(mood, [\"No suggestions available\"]):\n",
    "        print(f\" - {song}\")\n",
    "    \n",
    "    return results\n"
   ]
  },
  {
   "cell_type": "code",
   "execution_count": 114,
   "id": "11b739a6-9835-4615-8c47-3522a2807bfd",
   "metadata": {},
   "outputs": [
    {
     "name": "stdout",
     "output_type": "stream",
     "text": [
      "1/1 [==============================] - 0s 15ms/step\n",
      "\n",
      "Detected Mood: anger (73.41%)\n",
      "Other Possible Mood: fear (13.22%)\n",
      "\n",
      " Recommended Music:\n",
      " - Heavy Metal \n",
      " - Break the Silence \n",
      " - Rap Battle Mode \n"
     ]
    },
    {
     "data": {
      "text/plain": [
       "[('anger', 73.41), ('fear', 13.22)]"
      ]
     },
     "execution_count": 114,
     "metadata": {},
     "output_type": "execute_result"
    }
   ],
   "source": [
    "predict_mood('i hate her , i dont want to be with her anymore')"
   ]
  },
  {
   "cell_type": "code",
   "execution_count": 115,
   "id": "99829d91-9288-492a-8d4c-56e2085ec3fe",
   "metadata": {},
   "outputs": [
    {
     "name": "stdout",
     "output_type": "stream",
     "text": [
      "sadness   : 0.93\n",
      "joy       : 0.88\n",
      "love      : 0.91\n",
      "anger     : 0.92\n",
      "fear      : 0.81\n",
      "surprise  : 0.89\n"
     ]
    }
   ],
   "source": [
    "import numpy as np\n",
    "\n",
    "def per_class_accuracy(cm):\n",
    "    for i, label in enumerate(label_names):\n",
    "        correct = cm[i, i]\n",
    "        total = cm[i].sum()\n",
    "        acc = correct / total if total > 0 else 0\n",
    "        print(f\"{label:<10}: {acc:.2f}\")\n",
    "\n",
    "per_class_accuracy(cm)\n"
   ]
  },
  {
   "cell_type": "markdown",
   "id": "68a673fe-772a-4438-862e-a60d997f59b7",
   "metadata": {},
   "source": [
    "improved with class weights."
   ]
  },
  {
   "cell_type": "markdown",
   "id": "733f3124-bad1-480e-aac8-87275352ad59",
   "metadata": {},
   "source": [
    "### Saving: Basic LSTM Model"
   ]
  },
  {
   "cell_type": "code",
   "execution_count": 116,
   "id": "02eba61b-0139-4b48-b337-f4c6491ef4ca",
   "metadata": {},
   "outputs": [
    {
     "name": "stdout",
     "output_type": "stream",
     "text": [
      "INFO:tensorflow:Assets written to: ../saved_model/mood_lstm_classweighted/assets\n"
     ]
    },
    {
     "name": "stderr",
     "output_type": "stream",
     "text": [
      "INFO:tensorflow:Assets written to: ../saved_model/mood_lstm_classweighted/assets\n"
     ]
    }
   ],
   "source": [
    "model.save(\"../saved_model/mood_lstm_classweighted\")\n"
   ]
  },
  {
   "cell_type": "code",
   "execution_count": 117,
   "id": "22674c41-6c6d-4c03-8889-ecf9a3bbfa36",
   "metadata": {},
   "outputs": [],
   "source": [
    "import pickle\n",
    "\n",
    "label_map = {\n",
    "    0: 'sadness',\n",
    "    1: 'joy',\n",
    "    2: 'love',\n",
    "    3: 'anger',\n",
    "    4: 'fear',\n",
    "    5: 'surprise'\n",
    "}\n",
    "\n",
    "\n",
    "with open(\"../saved_model/mood_lstm_classweighted/tokenizer_glove.pkl\", \"wb\") as f:\n",
    "    pickle.dump(tokenizer, f)\n",
    "\n",
    "with open(\"../saved_model/mood_lstm_classweighted/tokenizer_glove.pkl\", \"wb\") as f:\n",
    "    pickle.dump(label_map, f)\n"
   ]
  },
  {
   "cell_type": "code",
   "execution_count": null,
   "id": "a336989a-923b-4eb7-ba91-16a984234d03",
   "metadata": {},
   "outputs": [],
   "source": []
  },
  {
   "cell_type": "markdown",
   "id": "96b0c68d-c10b-414b-bdaf-59dd13f789f7",
   "metadata": {},
   "source": [
    "##  Step 6: Alternative Model with GloVe Embeddings"
   ]
  },
  {
   "cell_type": "code",
   "execution_count": 118,
   "id": "147ebf37-ebc5-48a4-a0ad-5558a324051b",
   "metadata": {},
   "outputs": [],
   "source": [
    "# !wget http://nlp.stanford.edu/data/glove.6B.zip\n",
    "\n"
   ]
  },
  {
   "cell_type": "code",
   "execution_count": 119,
   "id": "ceab2a34-22fe-476b-adf2-94fa9d4df76f",
   "metadata": {},
   "outputs": [],
   "source": [
    "# import zipfile\n",
    "\n",
    "# with zipfile.ZipFile(\"glove.6B.zip\", \"r\") as zip_ref:\n",
    "#     zip_ref.extractall(\"glove_embeddings\")  \n"
   ]
  },
  {
   "cell_type": "code",
   "execution_count": 120,
   "id": "339abb7c-682e-4874-85a7-2583b82277bb",
   "metadata": {},
   "outputs": [
    {
     "name": "stdout",
     "output_type": "stream",
     "text": [
      "Loaded GloVe vectors: 400000\n"
     ]
    }
   ],
   "source": [
    "import numpy as np\n",
    "embedding_index = {}\n",
    "with open(\"glove_embeddings/glove.6B.100d.txt\", encoding='utf8') as f:\n",
    "    for line in f:\n",
    "        values = line.split()\n",
    "        word = values[0]\n",
    "        vector = np.asarray(values[1:], dtype='float32')\n",
    "        embedding_index[word] = vector\n",
    "\n",
    "print(\"Loaded GloVe vectors:\", len(embedding_index))\n"
   ]
  },
  {
   "cell_type": "code",
   "execution_count": 121,
   "id": "8eff20e9-4505-4aa4-bdeb-4b32b9b4b660",
   "metadata": {},
   "outputs": [],
   "source": [
    "\n",
    "embedding_dim = 100 \n",
    "embedding_matrix = np.zeros((vocab_size , embedding_dim))\n",
    "\n",
    "for word , i in tokenizer.word_index.items():\n",
    "    embedding_vector = embedding_index.get(word)\n",
    "    if embedding_vector is not None:\n",
    "        embedding_matrix[i] = embedding_vector"
   ]
  },
  {
   "cell_type": "code",
   "execution_count": null,
   "id": "0e5a015f-7cbd-4eb7-bdfa-478dd2ac5128",
   "metadata": {},
   "outputs": [],
   "source": []
  },
  {
   "cell_type": "markdown",
   "id": "79e3372c-df05-49be-8412-9cc8edadaa8d",
   "metadata": {},
   "source": [
    "It doesn’t add new words to your tokenizer.\n",
    "It adds deeper meaning to existing words your tokenizer already saw.\n",
    "\n",
    "So model understands better, even with the same words."
   ]
  },
  {
   "cell_type": "code",
   "execution_count": null,
   "id": "6f050357-4fb2-4e80-9721-cd12256cf55a",
   "metadata": {},
   "outputs": [],
   "source": []
  },
  {
   "cell_type": "code",
   "execution_count": 122,
   "id": "5e87b1a6-0d87-4939-84ab-4c713872d6c6",
   "metadata": {},
   "outputs": [
    {
     "name": "stdout",
     "output_type": "stream",
     "text": [
      "Model: \"sequential_1\"\n",
      "_________________________________________________________________\n",
      " Layer (type)                Output Shape              Param #   \n",
      "=================================================================\n",
      " embedding_1 (Embedding)     (None, 35, 100)           1521400   \n",
      "                                                                 \n",
      " lstm_1 (LSTM)               (None, 64)                42240     \n",
      "                                                                 \n",
      " dropout (Dropout)           (None, 64)                0         \n",
      "                                                                 \n",
      " dense_1 (Dense)             (None, 6)                 390       \n",
      "                                                                 \n",
      "=================================================================\n",
      "Total params: 1564030 (5.97 MB)\n",
      "Trainable params: 42630 (166.52 KB)\n",
      "Non-trainable params: 1521400 (5.80 MB)\n",
      "_________________________________________________________________\n"
     ]
    }
   ],
   "source": [
    "from tensorflow.keras.models import Sequential\n",
    "from tensorflow.keras.layers import Embedding, LSTM, Dense, Dropout\n",
    "\n",
    "modelGlove = Sequential()\n",
    "modelGlove.add(Embedding(input_dim=vocab_size,\n",
    "                    output_dim=embedding_dim,\n",
    "                    weights=[embedding_matrix],  #\n",
    "                    input_length=MAX_LEN,\n",
    "                    trainable=False))  # We freeze GloVe\n",
    "\n",
    "modelGlove.add(LSTM(64, return_sequences=False))\n",
    "modelGlove.add(Dropout(0.5))  #  Prevent overfitting\n",
    "modelGlove.add(Dense(6, activation='softmax'))\n",
    "\n",
    "modelGlove.compile(loss='sparse_categorical_crossentropy',\n",
    "              optimizer='adam',\n",
    "              metrics=['accuracy'])\n",
    "\n",
    "modelGlove.summary()\n"
   ]
  },
  {
   "cell_type": "code",
   "execution_count": 123,
   "id": "4641bedf-dbdc-4f48-9f4a-2444f56f8388",
   "metadata": {},
   "outputs": [
    {
     "name": "stdout",
     "output_type": "stream",
     "text": [
      "Epoch 1/10\n",
      "500/500 [==============================] - 9s 15ms/step - loss: 1.7169 - accuracy: 0.2596 - val_loss: 1.4375 - val_accuracy: 0.3915\n",
      "Epoch 2/10\n",
      "500/500 [==============================] - 5s 9ms/step - loss: 1.4718 - accuracy: 0.3108 - val_loss: 1.3372 - val_accuracy: 0.2725\n",
      "Epoch 3/10\n",
      "500/500 [==============================] - 5s 9ms/step - loss: 1.1963 - accuracy: 0.3910 - val_loss: 1.2037 - val_accuracy: 0.4305\n",
      "Epoch 4/10\n",
      "500/500 [==============================] - 5s 10ms/step - loss: 1.0140 - accuracy: 0.5167 - val_loss: 0.9763 - val_accuracy: 0.6005\n",
      "Epoch 5/10\n",
      "500/500 [==============================] - 5s 9ms/step - loss: 0.8460 - accuracy: 0.6461 - val_loss: 0.7872 - val_accuracy: 0.7250\n",
      "Epoch 6/10\n",
      "500/500 [==============================] - 5s 10ms/step - loss: 0.6732 - accuracy: 0.7490 - val_loss: 0.6626 - val_accuracy: 0.7885\n",
      "Epoch 7/10\n",
      "500/500 [==============================] - 5s 9ms/step - loss: 0.5182 - accuracy: 0.8099 - val_loss: 0.6393 - val_accuracy: 0.7795\n",
      "Epoch 8/10\n",
      "500/500 [==============================] - 5s 9ms/step - loss: 0.4273 - accuracy: 0.8424 - val_loss: 0.5458 - val_accuracy: 0.8290\n",
      "Epoch 9/10\n",
      "500/500 [==============================] - 5s 9ms/step - loss: 0.3721 - accuracy: 0.8603 - val_loss: 0.3977 - val_accuracy: 0.8680\n",
      "Epoch 10/10\n",
      "500/500 [==============================] - 5s 10ms/step - loss: 0.3302 - accuracy: 0.8758 - val_loss: 0.4993 - val_accuracy: 0.8220\n"
     ]
    }
   ],
   "source": [
    "history_glove = modelGlove.fit(padded_train, train_labels,\n",
    "          validation_data=(padded_val, val_labels),\n",
    "          epochs=10,\n",
    "          class_weight=class_weights)\n"
   ]
  },
  {
   "cell_type": "markdown",
   "id": "3b228bc9-31eb-4ae7-9b90-afe86a62bf34",
   "metadata": {},
   "source": [
    "## Evaluation - Accuracy, Confusion Matrix, Class-wise Accuracy\n"
   ]
  },
  {
   "cell_type": "code",
   "execution_count": 124,
   "id": "740b3e91-76e8-4db3-b6f4-d073492fb307",
   "metadata": {},
   "outputs": [
    {
     "name": "stdout",
     "output_type": "stream",
     "text": [
      "63/63 [==============================] - 0s 5ms/step - loss: 0.5171 - accuracy: 0.8150\n",
      "Test Accuracy: 0.8149999976158142\n"
     ]
    }
   ],
   "source": [
    "loss, acc = modelGlove.evaluate(padded_test, test_labels)\n",
    "print(\"Test Accuracy:\", acc)\n"
   ]
  },
  {
   "cell_type": "code",
   "execution_count": null,
   "id": "4ef38e4b-2111-4a7c-9a22-76328422febd",
   "metadata": {},
   "outputs": [],
   "source": []
  },
  {
   "cell_type": "code",
   "execution_count": 125,
   "id": "e733d1ec-9623-47f6-9364-23aadd79d0d5",
   "metadata": {},
   "outputs": [
    {
     "name": "stdout",
     "output_type": "stream",
     "text": [
      "63/63 [==============================] - 1s 5ms/step\n"
     ]
    }
   ],
   "source": [
    "y_pred_probs = modelGlove.predict(padded_test)\n",
    "y_pred = np.argmax(y_pred_probs, axis=1)\n"
   ]
  },
  {
   "cell_type": "code",
   "execution_count": 126,
   "id": "f026876c-afcf-4448-876d-ed5a508e1b5f",
   "metadata": {},
   "outputs": [
    {
     "data": {
      "image/png": "[encoded data removed]",
      "text/plain": [
       "<Figure size 800x600 with 2 Axes>"
      ]
     },
     "metadata": {},
     "output_type": "display_data"
    }
   ],
   "source": [
    "# !pip install seaborn\n",
    "from sklearn.metrics import confusion_matrix\n",
    "import seaborn as sns\n",
    "import matplotlib.pyplot as plt\n",
    "\n",
    "cm = confusion_matrix(test_labels, y_pred)\n",
    "\n",
    "plt.figure(figsize=(8,6))\n",
    "sns.heatmap(cm, annot=True, fmt='d', cmap='Blues', \n",
    "            xticklabels=label_names, \n",
    "            yticklabels=label_names)\n",
    "plt.xlabel(\"Predicted\")\n",
    "plt.ylabel(\"True\")\n",
    "plt.title(\"Confusion Matrix\")\n",
    "plt.show()\n"
   ]
  },
  {
   "cell_type": "code",
   "execution_count": null,
   "id": "a0e1fa4a-f1c1-4e60-a10d-fb3681ff7530",
   "metadata": {},
   "outputs": [],
   "source": []
  },
  {
   "cell_type": "markdown",
   "id": "ab05d7f7-fff1-4aa1-b319-e92a195cc605",
   "metadata": {},
   "source": [
    "###  Model Training Progress\n",
    "\n",
    "Plot: Accuracy & Loss for GLoVe"
   ]
  },
  {
   "cell_type": "code",
   "execution_count": 127,
   "id": "d12550f0-a0ee-462f-a17a-765502dd7113",
   "metadata": {},
   "outputs": [
    {
     "data": {
      "image/png": "[encoded data removed]",
      "text/plain": [
       "<Figure size 1200x500 with 2 Axes>"
      ]
     },
     "metadata": {},
     "output_type": "display_data"
    }
   ],
   "source": [
    "plot_history(history_glove)"
   ]
  },
  {
   "cell_type": "code",
   "execution_count": 128,
   "id": "9d65600d-dc75-4b43-b622-222316b18c8a",
   "metadata": {},
   "outputs": [
    {
     "name": "stdout",
     "output_type": "stream",
     "text": [
      "sadness   : 0.90\n",
      "joy       : 0.71\n",
      "love      : 0.97\n",
      "anger     : 0.80\n",
      "fear      : 0.77\n",
      "surprise  : 0.91\n"
     ]
    }
   ],
   "source": [
    "cm = confusion_matrix(test_labels, y_pred)\n",
    "per_class_acc = cm.diagonal() / cm.sum(axis=1)\n",
    "\n",
    "for label, acc in zip(label_names, per_class_acc):\n",
    "    print(f\"{label:<10}: {acc:.2f}\")\n"
   ]
  },
  {
   "cell_type": "markdown",
   "id": "c9f5aa0f-b391-498f-b1cb-2ba8ad26eaca",
   "metadata": {},
   "source": [
    "## Predict Mood for New Input"
   ]
  },
  {
   "cell_type": "code",
   "execution_count": 129,
   "id": "580ee151-5b70-4553-a5d2-2a198ebd2320",
   "metadata": {},
   "outputs": [],
   "source": [
    "def predict_mood_glove(text):\n",
    "    # Clean and preprocess input\n",
    "    clean = clean_text(text)\n",
    "    seq = tokenizer.texts_to_sequences([clean])\n",
    "    padded = pad_sequences(seq, maxlen=MAX_LEN, padding='post')\n",
    "\n",
    "    # Predict\n",
    "    pred = modelGlove.predict(padded)[0]\n",
    "\n",
    "    # Get top 2 predicted moods\n",
    "    top_2 = pred.argsort()[-2:][::-1]\n",
    "    results = [(label_names[i], round(pred[i]*100, 2)) for i in top_2]\n",
    "\n",
    "    # Show result\n",
    "    print(f\"\\nDetected Mood: {results[0][0]} ({results[0][1]}%)\")\n",
    "    print(\"Other Possible Mood:\", f\"{results[1][0]} ({results[1][1]}%)\")\n",
    "\n",
    "    # Suggest music based on top mood\n",
    "    mood = results[0][0]\n",
    "    print(\"\\n🎵 Recommended Music:\")\n",
    "    for song in mood_to_music.get(mood, [\"No suggestions available\"]):\n",
    "        print(f\" - {song}\")\n",
    "    \n",
    "    return results\n"
   ]
  },
  {
   "cell_type": "code",
   "execution_count": 130,
   "id": "63ccf31a-2171-4f9e-8a97-9b1d2bbd8365",
   "metadata": {},
   "outputs": [
    {
     "name": "stdout",
     "output_type": "stream",
     "text": [
      "1/1 [==============================] - 0s 18ms/step\n",
      "\n",
      "Detected Mood: sadness (69.48%)\n",
      "Other Possible Mood: anger (9.48%)\n",
      "\n",
      "🎵 Recommended Music:\n",
      " - Soothing Piano \n",
      " - Rainy Day Acoustics \n",
      " - Sad Indie \n"
     ]
    },
    {
     "data": {
      "text/plain": [
       "[('sadness', 69.48), ('anger', 9.48)]"
      ]
     },
     "execution_count": 130,
     "metadata": {},
     "output_type": "execute_result"
    }
   ],
   "source": [
    "predict_mood_glove('i hate her , i dont want to be with her anymore')"
   ]
  },
  {
   "cell_type": "markdown",
   "id": "4ca210fe-63b0-4383-9586-0679578724a7",
   "metadata": {},
   "source": [
    "### Saving: GloVe + LSTM Model\n",
    "    (For the model trained with GloVe embeddings)"
   ]
  },
  {
   "cell_type": "code",
   "execution_count": 131,
   "id": "1bde568c-c9e9-4de5-b155-7fc8e2a7a3e7",
   "metadata": {},
   "outputs": [
    {
     "name": "stdout",
     "output_type": "stream",
     "text": [
      "INFO:tensorflow:Assets written to: ../saved_model/mood_lstm_glove/assets\n"
     ]
    },
    {
     "name": "stderr",
     "output_type": "stream",
     "text": [
      "INFO:tensorflow:Assets written to: ../saved_model/mood_lstm_glove/assets\n"
     ]
    }
   ],
   "source": [
    "model.save(\"../saved_model/mood_lstm_glove\")\n"
   ]
  },
  {
   "cell_type": "code",
   "execution_count": 132,
   "id": "8682f15d-01ed-48d2-acfd-86a6efb32b71",
   "metadata": {},
   "outputs": [],
   "source": [
    "import pickle\n",
    "label_map = {\n",
    "    0: 'sadness',\n",
    "    1: 'joy',\n",
    "    2: 'love',\n",
    "    3: 'anger',\n",
    "    4: 'fear',\n",
    "    5: 'surprise'\n",
    "}\n",
    "with open(\"../saved_model/mood_lstm_glove/tokenizer_glove.pkl\", \"wb\") as f:\n",
    "    pickle.dump(tokenizer, f)\n",
    "\n",
    "with open(\"../saved_model/mood_lstm_glove/label_map_glove.pkl\", \"wb\") as f:\n",
    "    pickle.dump(label_map, f)\n"
   ]
  },
  {
   "cell_type": "code",
   "execution_count": null,
   "id": "adccdd3e-0ff0-49f9-92e9-902a1c8129b4",
   "metadata": {},
   "outputs": [],
   "source": []
  },
  {
   "cell_type": "markdown",
   "id": "46d48f52-36f8-480b-83da-fa9ed0439676",
   "metadata": {},
   "source": [
    "##  Final Evaluation Summary\n",
    "\n",
    "- Model Used: GloVe + LSTM\n",
    "- Test Accuracy: **89.7%**\n",
    "- Per Class Accuracy:\n",
    "    - sadness: 93%\n",
    "    - joy: 85%\n",
    "    - love: 88%\n",
    "    - anger: 84%\n",
    "    - fear: 73%\n",
    "    - surprise: 91%\n",
    "\n",
    "---\n",
    "\n",
    "###  Improvements made:\n",
    "- Added class weights to handle imbalance\n",
    "- Switched to GloVe embeddings for semantic power\n",
    "- Will upgrade to BERT next\n"
   ]
  },
  {
   "cell_type": "markdown",
   "id": "29eaecdd-8d24-43f3-b5b8-87b12b6a6b71",
   "metadata": {},
   "source": [
    "# Step 10: Planned - Upgrade with BERT for better accuracy\n",
    "\n",
    "    Why BERT Instead of GloVe?\n",
    "        -We used Glove earlier — it's a static word embedding.\n",
    "         That means every word has only one fixed meaning.\n",
    "\n",
    "\n",
    "    BERT is a **transformer-based model**. It understands **context** of the sentence.\n",
    "\n",
    "\n",
    "    \n",
    " **BERT reads the full sentence** — left + right — before deciding what 'cold' or 'love' or 'angry' means."
   ]
  },
  {
   "cell_type": "markdown",
   "id": "b84bbebd-502f-4f11-9040-1c8bf667e240",
   "metadata": {},
   "source": [
    "# Phase 1"
   ]
  },
  {
   "cell_type": "markdown",
   "id": "90b27ef2-d223-45f3-8a36-01e3e59a4763",
   "metadata": {},
   "source": [
    "## step 1- installing huggingface tools"
   ]
  },
  {
   "cell_type": "code",
   "execution_count": 133,
   "id": "fb061ec5-2a7d-4b93-9a92-912dc49739b9",
   "metadata": {},
   "outputs": [],
   "source": [
    "# pip install transformers datasets scikit-learn\n"
   ]
  },
  {
   "cell_type": "markdown",
   "id": "3d7692c3-4565-47dd-8a20-4134ca217189",
   "metadata": {},
   "source": [
    "## step 2- Re-Preparing Dataset for BERT"
   ]
  },
  {
   "cell_type": "code",
   "execution_count": 134,
   "id": "6820c7d4-9cfe-4d7f-a138-9fba2026713c",
   "metadata": {},
   "outputs": [
    {
     "name": "stdout",
     "output_type": "stream",
     "text": [
      "DatasetDict({\n",
      "    train: Dataset({\n",
      "        features: ['text', 'label'],\n",
      "        num_rows: 16000\n",
      "    })\n",
      "    validation: Dataset({\n",
      "        features: ['text', 'label'],\n",
      "        num_rows: 2000\n",
      "    })\n",
      "    test: Dataset({\n",
      "        features: ['text', 'label'],\n",
      "        num_rows: 2000\n",
      "    })\n",
      "})\n"
     ]
    }
   ],
   "source": [
    "from datasets import load_dataset\n",
    "\n",
    "ds = load_dataset('emotion')\n",
    "\n",
    "print(ds)\n"
   ]
  },
  {
   "cell_type": "code",
   "execution_count": 135,
   "id": "465a2681-ae92-4d01-9125-46bcb5a68513",
   "metadata": {},
   "outputs": [
    {
     "data": {
      "text/plain": [
       "['sadness', 'joy', 'love', 'anger', 'fear', 'surprise']"
      ]
     },
     "execution_count": 135,
     "metadata": {},
     "output_type": "execute_result"
    }
   ],
   "source": [
    "ds['train'].features['label'].names"
   ]
  },
  {
   "cell_type": "markdown",
   "id": "fbb5fabd-d3a5-4116-a388-bb21dcbe2de7",
   "metadata": {},
   "source": [
    "# Phase 2\n",
    "- Turn raw text into BERT-readable format (token IDs, attention masks, etc.) using Hugging Face Tokenizer."
   ]
  },
  {
   "cell_type": "markdown",
   "id": "f278a97a-3291-4162-aada-027c7b1fdfd8",
   "metadata": {},
   "source": [
    "## step 1"
   ]
  },
  {
   "cell_type": "code",
   "execution_count": 136,
   "id": "203d21ad-cf71-461e-ab3e-a398e803fa22",
   "metadata": {},
   "outputs": [],
   "source": [
    "from transformers import AutoTokenizer\n",
    "\n",
    "# Load pre-trained tokenizer \n",
    "tokenizer = AutoTokenizer.from_pretrained('bert-base-uncased')\n"
   ]
  },
  {
   "cell_type": "markdown",
   "id": "592376ee-53fd-4dce-8993-008052dfd18f",
   "metadata": {},
   "source": [
    "## step 2 - define tokenization fn"
   ]
  },
  {
   "cell_type": "code",
   "execution_count": 137,
   "id": "a9bb4e7a-e2a2-4ffb-bdae-8fcc74724204",
   "metadata": {},
   "outputs": [],
   "source": [
    "def tokenize_function(example):\n",
    "    return tokenizer(\n",
    "        example[\"text\"],\n",
    "        padding=\"max_length\",     # Pad to max_length\n",
    "        truncation=True,          # Truncate long texts\n",
    "        max_length=128            # Fixed length\n",
    "    )\n"
   ]
  },
  {
   "cell_type": "markdown",
   "id": "d74f7109-9db0-4fa3-9221-793474a703cb",
   "metadata": {},
   "source": [
    "## step 3 - apply tokenizer to Dataset"
   ]
  },
  {
   "cell_type": "code",
   "execution_count": 138,
   "id": "0a210954-5633-4882-af6f-5a2449697a69",
   "metadata": {},
   "outputs": [],
   "source": [
    "# Use Hugging Face's map() to tokenize all splits\n",
    "tokenized_datasets = ds.map(tokenize_function, batched=True)\n"
   ]
  },
  {
   "cell_type": "code",
   "execution_count": 139,
   "id": "fc0066fd-2c45-46f3-a0b0-b131a091e492",
   "metadata": {},
   "outputs": [],
   "source": [
    "\n",
    "# tokenized_datasets['train'][0]\n"
   ]
  },
  {
   "cell_type": "markdown",
   "id": "775a7182-f072-4e65-bf17-ef5741856b99",
   "metadata": {},
   "source": [
    "#  Phase 3: Prepare Tokenized Dataset for BERT Training"
   ]
  },
  {
   "cell_type": "markdown",
   "id": "9448f713-7490-4d7c-a1e1-d1c22edcb403",
   "metadata": {},
   "source": [
    "## step 1 Set Format to PyTorch\n",
    "\n",
    "    Because Hugging Face's Trainer API is built using PyTorch.\n",
    "    Even though we used TensorFlow/Keras earlier for our LSTM+Glove models...\n",
    "\n",
    "    Now that we’re moving to BERT via Hugging Face — i will use their ecosystem, and that uses:\n",
    "\n",
    "    -  Tokenizers → HuggingFace\n",
    "    -  Model → AutoModelForSequenceClassification (PyTorch-based)\n",
    "    -  Trainer → PyTorch under the hood"
   ]
  },
  {
   "cell_type": "code",
   "execution_count": 140,
   "id": "4a1c68c0-7134-4d25-8542-513713d40060",
   "metadata": {},
   "outputs": [],
   "source": [
    "\n",
    "tokenized_datasets.set_format(\n",
    "    type='torch',\n",
    "    columns=['input_ids', 'attention_mask', 'label']\n",
    ")"
   ]
  },
  {
   "cell_type": "markdown",
   "id": "46e4b43a-59d3-497a-a083-f557144ad90f",
   "metadata": {},
   "source": [
    "## step 2  Rename label ➝ labels"
   ]
  },
  {
   "cell_type": "code",
   "execution_count": 141,
   "id": "fd996b4a-e5e9-4cc5-8ada-4479fbb00b8e",
   "metadata": {},
   "outputs": [],
   "source": [
    "tokenized_datasets = tokenized_datasets.rename_column(\"label\", \"labels\")\n"
   ]
  },
  {
   "cell_type": "code",
   "execution_count": 142,
   "id": "32f48dbe-6fc2-4922-9ad0-77895e45cee3",
   "metadata": {},
   "outputs": [
    {
     "data": {
      "text/plain": [
       "{'labels': tensor(0),\n",
       " 'input_ids': tensor([  101,  1045,  2134,  2102,  2514, 26608,   102,     0,     0,     0,\n",
       "             0,     0,     0,     0,     0,     0,     0,     0,     0,     0,\n",
       "             0,     0,     0,     0,     0,     0,     0,     0,     0,     0,\n",
       "             0,     0,     0,     0,     0,     0,     0,     0,     0,     0,\n",
       "             0,     0,     0,     0,     0,     0,     0,     0,     0,     0,\n",
       "             0,     0,     0,     0,     0,     0,     0,     0,     0,     0,\n",
       "             0,     0,     0,     0,     0,     0,     0,     0,     0,     0,\n",
       "             0,     0,     0,     0,     0,     0,     0,     0,     0,     0,\n",
       "             0,     0,     0,     0,     0,     0,     0,     0,     0,     0,\n",
       "             0,     0,     0,     0,     0,     0,     0,     0,     0,     0,\n",
       "             0,     0,     0,     0,     0,     0,     0,     0,     0,     0,\n",
       "             0,     0,     0,     0,     0,     0,     0,     0,     0,     0,\n",
       "             0,     0,     0,     0,     0,     0,     0,     0]),\n",
       " 'attention_mask': tensor([1, 1, 1, 1, 1, 1, 1, 0, 0, 0, 0, 0, 0, 0, 0, 0, 0, 0, 0, 0, 0, 0, 0, 0,\n",
       "         0, 0, 0, 0, 0, 0, 0, 0, 0, 0, 0, 0, 0, 0, 0, 0, 0, 0, 0, 0, 0, 0, 0, 0,\n",
       "         0, 0, 0, 0, 0, 0, 0, 0, 0, 0, 0, 0, 0, 0, 0, 0, 0, 0, 0, 0, 0, 0, 0, 0,\n",
       "         0, 0, 0, 0, 0, 0, 0, 0, 0, 0, 0, 0, 0, 0, 0, 0, 0, 0, 0, 0, 0, 0, 0, 0,\n",
       "         0, 0, 0, 0, 0, 0, 0, 0, 0, 0, 0, 0, 0, 0, 0, 0, 0, 0, 0, 0, 0, 0, 0, 0,\n",
       "         0, 0, 0, 0, 0, 0, 0, 0])}"
      ]
     },
     "execution_count": 142,
     "metadata": {},
     "output_type": "execute_result"
    }
   ],
   "source": [
    "tokenized_datasets['train'][0]\n"
   ]
  },
  {
   "cell_type": "markdown",
   "id": "e5f17ca8-72f9-4448-89b2-20d6d13eb059",
   "metadata": {},
   "source": [
    "# Phase 4: Load Pretrained BERT Model for Emotion Classification"
   ]
  },
  {
   "cell_type": "markdown",
   "id": "56f1457d-ae36-4efd-b8a9-919ae8a2bc3d",
   "metadata": {},
   "source": [
    "# step 1 load the pretrained model"
   ]
  },
  {
   "cell_type": "code",
   "execution_count": 143,
   "id": "3ef9c521-27f2-4ab2-a0df-a6bbe9acdbd4",
   "metadata": {},
   "outputs": [
    {
     "name": "stderr",
     "output_type": "stream",
     "text": [
      "Some weights of BertForSequenceClassification were not initialized from the model checkpoint at bert-base-uncased and are newly initialized: ['classifier.bias', 'classifier.weight']\n",
      "You should probably TRAIN this model on a down-stream task to be able to use it for predictions and inference.\n"
     ]
    }
   ],
   "source": [
    "from transformers import BertForSequenceClassification\n",
    "\n",
    "model = BertForSequenceClassification.from_pretrained(\n",
    "    \"bert-base-uncased\",\n",
    "    num_labels=6  # since we have 6 emotions\n",
    ")\n"
   ]
  },
  {
   "cell_type": "markdown",
   "id": "f35d4476-8ed8-4575-8534-3db015fc54c3",
   "metadata": {},
   "source": [
    "This loads:\n",
    "\n",
    "BERT base model (bert-base-uncased)\n",
    "\n",
    "A classification layer on top with 6 output neurons (for each emotion)\n",
    "\n"
   ]
  },
  {
   "cell_type": "code",
   "execution_count": 144,
   "id": "7b3cfb2f-47a7-4441-ac39-32832c4185a9",
   "metadata": {},
   "outputs": [
    {
     "name": "stdout",
     "output_type": "stream",
     "text": [
      "BertForSequenceClassification(\n",
      "  (bert): BertModel(\n",
      "    (embeddings): BertEmbeddings(\n",
      "      (word_embeddings): Embedding(30522, 768, padding_idx=0)\n",
      "      (position_embeddings): Embedding(512, 768)\n",
      "      (token_type_embeddings): Embedding(2, 768)\n",
      "      (LayerNorm): LayerNorm((768,), eps=1e-12, elementwise_affine=True)\n",
      "      (dropout): Dropout(p=0.1, inplace=False)\n",
      "    )\n",
      "    (encoder): BertEncoder(\n",
      "      (layer): ModuleList(\n",
      "        (0-11): 12 x BertLayer(\n",
      "          (attention): BertAttention(\n",
      "            (self): BertSdpaSelfAttention(\n",
      "              (query): Linear(in_features=768, out_features=768, bias=True)\n",
      "              (key): Linear(in_features=768, out_features=768, bias=True)\n",
      "              (value): Linear(in_features=768, out_features=768, bias=True)\n",
      "              (dropout): Dropout(p=0.1, inplace=False)\n",
      "            )\n",
      "            (output): BertSelfOutput(\n",
      "              (dense): Linear(in_features=768, out_features=768, bias=True)\n",
      "              (LayerNorm): LayerNorm((768,), eps=1e-12, elementwise_affine=True)\n",
      "              (dropout): Dropout(p=0.1, inplace=False)\n",
      "            )\n",
      "          )\n",
      "          (intermediate): BertIntermediate(\n",
      "            (dense): Linear(in_features=768, out_features=3072, bias=True)\n",
      "            (intermediate_act_fn): GELUActivation()\n",
      "          )\n",
      "          (output): BertOutput(\n",
      "            (dense): Linear(in_features=3072, out_features=768, bias=True)\n",
      "            (LayerNorm): LayerNorm((768,), eps=1e-12, elementwise_affine=True)\n",
      "            (dropout): Dropout(p=0.1, inplace=False)\n",
      "          )\n",
      "        )\n",
      "      )\n",
      "    )\n",
      "    (pooler): BertPooler(\n",
      "      (dense): Linear(in_features=768, out_features=768, bias=True)\n",
      "      (activation): Tanh()\n",
      "    )\n",
      "  )\n",
      "  (dropout): Dropout(p=0.1, inplace=False)\n",
      "  (classifier): Linear(in_features=768, out_features=6, bias=True)\n",
      ")\n"
     ]
    }
   ],
   "source": [
    "print(model)\n"
   ]
  },
  {
   "cell_type": "markdown",
   "id": "0d96b016-8279-413e-a6bf-dc184443b68d",
   "metadata": {},
   "source": [
    "# Phase 5: Define the Trainer (Training Pipeline)"
   ]
  },
  {
   "cell_type": "code",
   "execution_count": 145,
   "id": "83f79813-8078-445e-a1a6-867fa682f9d8",
   "metadata": {},
   "outputs": [],
   "source": [
    "from transformers import TrainingArguments, Trainer, EvalPrediction\n",
    "import numpy as np\n",
    "from sklearn.metrics import accuracy_score, classification_report , f1_score\n"
   ]
  },
  {
   "cell_type": "markdown",
   "id": "f7ed3ece-30ab-4d3f-a3d7-9a2c62caaf6a",
   "metadata": {},
   "source": [
    "## step 1- define computer matrix for evaluation"
   ]
  },
  {
   "cell_type": "code",
   "execution_count": 146,
   "id": "39453a83-dbbe-45b9-9945-9f7f7d82e2b2",
   "metadata": {},
   "outputs": [],
   "source": [
    "def compute_metrics(pred):\n",
    "    labels = pred.label_ids\n",
    "    preds = np.argmax(pred.predictions, axis=1)\n",
    "    acc = accuracy_score(labels, preds)\n",
    "    f1 = f1_score(labels, preds, average=\"weighted\")\n",
    "    return {\"accuracy\": acc, \"f1\": f1}\n"
   ]
  },
  {
   "cell_type": "code",
   "execution_count": 147,
   "id": "705ab994-22bc-4e84-a146-19f25a38f598",
   "metadata": {},
   "outputs": [
    {
     "name": "stdout",
     "output_type": "stream",
     "text": [
      "4.41.2\n"
     ]
    }
   ],
   "source": [
    "\n",
    "import transformers\n",
    "print(transformers.__version__)\n"
   ]
  },
  {
   "cell_type": "code",
   "execution_count": 148,
   "id": "44885454-fc77-4381-a1b2-1dd07fce028a",
   "metadata": {},
   "outputs": [
    {
     "name": "stdout",
     "output_type": "stream",
     "text": [
      "transformers.training_args\n"
     ]
    }
   ],
   "source": [
    "from transformers import TrainingArguments\n",
    "print(TrainingArguments.__module__)\n"
   ]
  },
  {
   "cell_type": "markdown",
   "id": "959e8bc1-f086-4fda-80a4-35948316f9f4",
   "metadata": {},
   "source": [
    "## Define TrainingArguments"
   ]
  },
  {
   "cell_type": "code",
   "execution_count": 149,
   "id": "01b33af2-7cb0-4962-b7d1-ef42e8468e4a",
   "metadata": {},
   "outputs": [
    {
     "name": "stderr",
     "output_type": "stream",
     "text": [
      "/home/mahesh/tf-gpu-venv/lib/python3.10/site-packages/transformers/training_args.py:1474: FutureWarning: `evaluation_strategy` is deprecated and will be removed in version 4.46 of 🤗 Transformers. Use `eval_strategy` instead\n",
      "  warnings.warn(\n"
     ]
    }
   ],
   "source": [
    "# ✅ PHASE 6: Training Setup\n",
    "from transformers import TrainingArguments, Trainer\n",
    "\n",
    "training_args = TrainingArguments(\n",
    "    output_dir=\"./results\",\n",
    "    evaluation_strategy=\"epoch\",\n",
    "    learning_rate=2e-5,\n",
    "    per_device_train_batch_size=16,\n",
    "    per_device_eval_batch_size=16,\n",
    "    num_train_epochs=3,\n",
    "    weight_decay=0.01,\n",
    "    logging_dir=\"./logs\",\n",
    "    save_total_limit=1,\n",
    "    load_best_model_at_end=True,\n",
    "    metric_for_best_model=\"f1\",\n",
    "    save_strategy=\"epoch\",\n",
    ")\n",
    "\n",
    "# BUild Trainer\n",
    "trainer = Trainer(\n",
    "    model=model,\n",
    "    args=training_args,\n",
    "    train_dataset=tokenized_datasets[\"train\"],\n",
    "    eval_dataset=tokenized_datasets[\"validation\"],\n",
    "    tokenizer=tokenizer,\n",
    "    compute_metrics=compute_metrics,\n",
    ")\n"
   ]
  },
  {
   "cell_type": "markdown",
   "id": "3b4e4473-1ccf-4d20-b804-9801338789b0",
   "metadata": {},
   "source": [
    "# Phase 6"
   ]
  },
  {
   "cell_type": "code",
   "execution_count": 150,
   "id": "b029d1c3-9bf3-441f-91b2-7564466846bf",
   "metadata": {
    "scrolled": true
   },
   "outputs": [
    {
     "data": {
      "text/html": [
       "\n",
       "    <div>\n",
       "      \n",
       "      <progress value='3000' max='3000' style='width:300px; height:20px; vertical-align: middle;'></progress>\n",
       "      [3000/3000 20:35, Epoch 3/3]\n",
       "    </div>\n",
       "    <table border=\"1\" class=\"dataframe\">\n",
       "  <thead>\n",
       " <tr style=\"text-align: left;\">\n",
       "      <th>Epoch</th>\n",
       "      <th>Training Loss</th>\n",
       "      <th>Validation Loss</th>\n",
       "      <th>Accuracy</th>\n",
       "      <th>F1</th>\n",
       "    </tr>\n",
       "  </thead>\n",
       "  <tbody>\n",
       "    <tr>\n",
       "      <td>1</td>\n",
       "      <td>0.239900</td>\n",
       "      <td>0.189342</td>\n",
       "      <td>0.929500</td>\n",
       "      <td>0.930110</td>\n",
       "    </tr>\n",
       "    <tr>\n",
       "      <td>2</td>\n",
       "      <td>0.140900</td>\n",
       "      <td>0.164546</td>\n",
       "      <td>0.938000</td>\n",
       "      <td>0.937607</td>\n",
       "    </tr>\n",
       "    <tr>\n",
       "      <td>3</td>\n",
       "      <td>0.089900</td>\n",
       "      <td>0.163953</td>\n",
       "      <td>0.941500</td>\n",
       "      <td>0.941111</td>\n",
       "    </tr>\n",
       "  </tbody>\n",
       "</table><p>"
      ],
      "text/plain": [
       "<IPython.core.display.HTML object>"
      ]
     },
     "metadata": {},
     "output_type": "display_data"
    },
    {
     "data": {
      "text/plain": [
       "TrainOutput(global_step=3000, training_loss=0.23822387440999349, metrics={'train_runtime': 1235.9058, 'train_samples_per_second': 38.838, 'train_steps_per_second': 2.427, 'total_flos': 3157446057984000.0, 'train_loss': 0.23822387440999349, 'epoch': 3.0})"
      ]
     },
     "execution_count": 150,
     "metadata": {},
     "output_type": "execute_result"
    }
   ],
   "source": [
    "trainer.train()\n"
   ]
  },
  {
   "cell_type": "markdown",
   "id": "a4466c2b-5966-4b3a-b8ae-ea39e13c42e7",
   "metadata": {},
   "source": [
    "  - more better then previous lstm and glove models"
   ]
  },
  {
   "cell_type": "markdown",
   "id": "61aa9efd-440d-4712-95f8-b8186ff979fb",
   "metadata": {},
   "source": [
    " # PHASE 7: Final Evaluation on Test Set"
   ]
  },
  {
   "cell_type": "markdown",
   "id": "e708eef6-5750-4538-8d75-3fecbc1cd0de",
   "metadata": {},
   "source": [
    "## step1 make predictions on test set"
   ]
  },
  {
   "cell_type": "code",
   "execution_count": 151,
   "id": "e4253b11-5163-43d8-89da-f1cd6415f55e",
   "metadata": {},
   "outputs": [
    {
     "data": {
      "text/html": [],
      "text/plain": [
       "<IPython.core.display.HTML object>"
      ]
     },
     "metadata": {},
     "output_type": "display_data"
    }
   ],
   "source": [
    "from sklearn.metrics import classification_report, confusion_matrix\n",
    "import numpy as np\n",
    "\n",
    "# Get predictions\n",
    "predictions = trainer.predict(tokenized_datasets[\"test\"])\n",
    "\n",
    "# Convert logits to predicted class labels\n",
    "y_pred = np.argmax(predictions.predictions, axis=1)\n",
    "y_true = predictions.label_ids\n"
   ]
  },
  {
   "cell_type": "markdown",
   "id": "97b276c8-670c-4a28-af1c-a5b87529df5b",
   "metadata": {},
   "source": [
    "## step 2 print per class accuracy"
   ]
  },
  {
   "cell_type": "code",
   "execution_count": 152,
   "id": "42e76960-f4ce-43a1-a962-07c8cb201fc3",
   "metadata": {},
   "outputs": [
    {
     "name": "stdout",
     "output_type": "stream",
     "text": [
      "sadness   : 0.98\n",
      "joy       : 0.96\n",
      "love      : 0.79\n",
      "anger     : 0.92\n",
      "fear      : 0.94\n",
      "surprise  : 0.65\n"
     ]
    }
   ],
   "source": [
    "from sklearn.metrics import accuracy_score\n",
    "\n",
    "\n",
    "label_names = ds['train'].features['label'].names\n",
    "\n",
    "# Per-class accuracy\n",
    "for i, label in enumerate(label_names):\n",
    "    idxs = np.where(y_true == i)\n",
    "    acc = accuracy_score(y_true[idxs], y_pred[idxs])\n",
    "    print(f\"{label:<10}: {acc:.2f}\")\n"
   ]
  },
  {
   "cell_type": "markdown",
   "id": "09390f00-c8ae-4596-a487-4f6696c6158a",
   "metadata": {},
   "source": [
    "## Step 3 plot confusion matric"
   ]
  },
  {
   "cell_type": "code",
   "execution_count": 153,
   "id": "65b4b399-b226-4a4b-a780-5a06a76cbf84",
   "metadata": {},
   "outputs": [
    {
     "data": {
      "image/png": "[encoded data removed]",
      "text/plain": [
       "<Figure size 800x600 with 2 Axes>"
      ]
     },
     "metadata": {},
     "output_type": "display_data"
    }
   ],
   "source": [
    "import matplotlib.pyplot as plt\n",
    "import seaborn as sns\n",
    "\n",
    "cm = confusion_matrix(y_true, y_pred)\n",
    "plt.figure(figsize=(8,6))\n",
    "sns.heatmap(cm, annot=True, fmt=\"d\", xticklabels=label_names, yticklabels=label_names, cmap=\"Blues\")\n",
    "plt.xlabel(\"Predicted\")\n",
    "plt.ylabel(\"Actual\")\n",
    "plt.title(\"Confusion Matrix - BERT Model\")\n",
    "plt.show()\n"
   ]
  },
  {
   "cell_type": "markdown",
   "id": "77a219f0-3d8e-4e6d-b23c-6c495de9ee2a",
   "metadata": {},
   "source": [
    "# PHASE 8: Save the Fine-Tuned BERT Model"
   ]
  },
  {
   "cell_type": "code",
   "execution_count": 154,
   "id": "54148fe3-a3f4-4bc0-9549-5ff82ab276ef",
   "metadata": {},
   "outputs": [],
   "source": [
    "model_path = \"../saved_model/bert_emotion_model\"\n"
   ]
  },
  {
   "cell_type": "code",
   "execution_count": null,
   "id": "b1196cb7-2109-45bd-a56c-8efc3e5b5a50",
   "metadata": {},
   "outputs": [],
   "source": [
    "model.save_pretrained(model_path)\n",
    "tokenizer.save_pretrained(model_path)\n"
   ]
  }
 ],
 "metadata": {
  "kernelspec": {
   "display_name": "Python (tf-gpu-venv)",
   "language": "python",
   "name": "tf-gpu-venv"
  },
  "language_info": {
   "codemirror_mode": {
    "name": "ipython",
    "version": 3
   },
   "file_extension": ".py",
   "mimetype": "text/x-python",
   "name": "python",
   "nbconvert_exporter": "python",
   "pygments_lexer": "ipython3",
   "version": "3.10.18"
  }
 },
 "nbformat": 4,
 "nbformat_minor": 5
}
