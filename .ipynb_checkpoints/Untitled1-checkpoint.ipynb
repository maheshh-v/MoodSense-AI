{
 "cells": [
  {
   "cell_type": "code",
   "execution_count": 3,
   "id": "d795fae8-c094-4c66-95f2-a723387c822e",
   "metadata": {},
   "outputs": [
    {
     "name": "stdout",
     "output_type": "stream",
     "text": [
      "Max length of the sequences: 41\n",
      "Class weights: {0: 0.5715102157451064, 1: 0.49732686808404825, 2: 2.044989775051125, 3: 1.2351397251814111, 4: 1.3766993632765445, 5: 4.662004662004662}\n",
      "Model: \"sequential_2\"\n",
      "_________________________________________________________________\n",
      " Layer (type)                Output Shape              Param #   \n",
      "=================================================================\n",
      " embedding_2 (Embedding)     (None, 41, 128)           1947392   \n",
      "                                                                 \n",
      " lstm_2 (LSTM)               (None, 64)                49408     \n",
      "                                                                 \n",
      " dense_2 (Dense)             (None, 6)                 390       \n",
      "                                                                 \n",
      "=================================================================\n",
      "Total params: 1997190 (7.62 MB)\n",
      "Trainable params: 1997190 (7.62 MB)\n",
      "Non-trainable params: 0 (0.00 Byte)\n",
      "_________________________________________________________________\n",
      "Epoch 1/10\n",
      "500/500 [==============================] - 15s 28ms/step - loss: 1.1037 - accuracy: 0.5941 - val_loss: 0.4002 - val_accuracy: 0.8810\n",
      "Epoch 2/10\n",
      "500/500 [==============================] - 14s 27ms/step - loss: 0.2261 - accuracy: 0.9191 - val_loss: 0.3564 - val_accuracy: 0.8970\n",
      "Epoch 3/10\n",
      "500/500 [==============================] - 14s 29ms/step - loss: 0.1166 - accuracy: 0.9550 - val_loss: 0.2857 - val_accuracy: 0.9140\n",
      "Epoch 4/10\n",
      "500/500 [==============================] - 14s 27ms/step - loss: 0.0710 - accuracy: 0.9728 - val_loss: 0.3191 - val_accuracy: 0.9040\n",
      "Epoch 5/10\n",
      "500/500 [==============================] - 14s 29ms/step - loss: 0.0530 - accuracy: 0.9799 - val_loss: 0.2994 - val_accuracy: 0.9130\n"
     ]
    }
   ],
   "source": [
    "%run main.py"
   ]
  },
  {
   "cell_type": "code",
   "execution_count": 4,
   "id": "4001a773-67ab-4558-9fc2-c32e0c0f3836",
   "metadata": {},
   "outputs": [
    {
     "name": "stdout",
     "output_type": "stream",
     "text": [
      "Available GPUs: []\n",
      "❌ No GPU found, running on CPU.\n"
     ]
    },
    {
     "name": "stderr",
     "output_type": "stream",
     "text": [
      "2025-08-20 15:47:25.941736: I external/local_xla/xla/stream_executor/cuda/cuda_executor.cc:887] could not open file to read NUMA node: /sys/bus/pci/devices/0000:01:00.0/numa_node\n",
      "Your kernel may have been built without NUMA support.\n",
      "2025-08-20 15:47:25.942147: W tensorflow/core/common_runtime/gpu/gpu_device.cc:2256] Cannot dlopen some GPU libraries. Please make sure the missing libraries mentioned above are installed properly if you would like to use GPU. Follow the guide at https://www.tensorflow.org/install/gpu for how to download and setup the required libraries for your platform.\n",
      "Skipping registering GPU devices...\n"
     ]
    }
   ],
   "source": [
    "import tensorflow as tf\n",
    "\n",
    "# List available physical devices\n",
    "print(\"Available GPUs:\", tf.config.list_physical_devices('GPU'))\n",
    "\n",
    "# Check which device is being used\n",
    "device_name = tf.test.gpu_device_name()\n",
    "if device_name:\n",
    "    print(\"✅ Using GPU:\", device_name)\n",
    "else:\n",
    "    print(\"❌ No GPU found, running on CPU.\")\n"
   ]
  },
  {
   "cell_type": "code",
   "execution_count": null,
   "id": "36f9184c-9288-4515-8920-1aa2b560d27b",
   "metadata": {},
   "outputs": [],
   "source": []
  }
 ],
 "metadata": {
  "kernelspec": {
   "display_name": "Python (tf-gpu-venv)",
   "language": "python",
   "name": "tf-gpu-venv"
  },
  "language_info": {
   "codemirror_mode": {
    "name": "ipython",
    "version": 3
   },
   "file_extension": ".py",
   "mimetype": "text/x-python",
   "name": "python",
   "nbconvert_exporter": "python",
   "pygments_lexer": "ipython3",
   "version": "3.10.18"
  }
 },
 "nbformat": 4,
 "nbformat_minor": 5
}
